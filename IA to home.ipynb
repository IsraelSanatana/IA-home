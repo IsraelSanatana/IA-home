{
  "nbformat": 4,
  "nbformat_minor": 0,
  "metadata": {
    "colab": {
      "name": "Cópia de  av02_grupo_Club das Winx.ipynb",
      "provenance": [],
      "collapsed_sections": []
    },
    "kernelspec": {
      "name": "python3",
      "display_name": "Python 3"
    },
    "language_info": {
      "name": "python"
    }
  },
  "cells": [
    {
      "cell_type": "markdown",
      "metadata": {
        "id": "FqpZKSJtiAvT"
      },
      "source": [
        "# Projeto de Algoritmos - Avaliação 2"
      ]
    },
    {
      "cell_type": "markdown",
      "metadata": {
        "id": "GWYJVm84iO3h"
      },
      "source": [
        "Alunos: Gierot Nascimento Almeida e Israel Fernando Mendes Santana\n",
        "\n"
      ]
    },
    {
      "cell_type": "markdown",
      "metadata": {
        "id": "v66OEqZhiggI"
      },
      "source": [
        "# Ideia: Programa de Inteligencia artificial para residencias\n",
        "\n"
      ]
    },
    {
      "cell_type": "markdown",
      "metadata": {
        "id": "9KUwAvApim8U"
      },
      "source": [
        "Desenvolver um algoritmo com base em inteligencia artifical para uso em residencias. A utilização de algoritmos se torna mais visivel para as pessoas assim como sua amplitude. \n",
        "\n",
        "Buscamos algo haver com o nosso dia a dia assim, a convivencia em nossa residencia se tornou se nao a principal parte do nossa convivencia diaria, entretranto tambem nao so buscamos ajudar nas tarefas como tambem auxiliar na parte das financia das familias. A cerca do desenvolvimento do nosso algoritmo ampimoramos o nosso projeto otimizando e melhorando a amplitude e variedade do nosso algoritmo."
      ]
    },
    {
      "cell_type": "markdown",
      "metadata": {
        "id": "Y8zGSz1ji2JY"
      },
      "source": [
        "# Implementação"
      ]
    },
    {
      "cell_type": "markdown",
      "metadata": {
        "id": "ZOwsiLxDJLyj"
      },
      "source": [
        "  Os comodos da casa são:\n",
        "  - 2 quartos (quarto 1 e quarto 2)\n",
        "  - 1 garagem\n",
        "  - 1 sala\n",
        "  - 1 banheiro \n",
        "  - 1 cozinha"
      ]
    },
    {
      "cell_type": "markdown",
      "metadata": {
        "id": "62STKMTeFcMq"
      },
      "source": [
        "**COMANDOS**"
      ]
    },
    {
      "cell_type": "code",
      "metadata": {
        "id": "b3wKCu5hC2Fk"
      },
      "source": [
        "COMANDO = input(\" Dar um comando a inteligencia artificial (SIM ou NÃO) \")\n",
        "if COMANDO == \"sim\" or COMANDO == \"SIM\" or COMANDO == \"Sim\":\n",
        "  c = input(\" Gostaria de dar um comando pre programado(SIM ou NÃO) \")\n",
        "  if c == \"SIM\" or c == \"sim\" or c == \"Sim\":\n",
        "    print(\"Qual o comando programado\")\n",
        "    CPex = []\n",
        "    CPe = []\n",
        "    CP = [\"Adicionar\",\"Viajar\",\"Remover\",CPex]\n",
        "    CPprint= [\"Adicionar comando programado \",\"Trancar, fechar e apagar tudo\",\"Remover comando programado\",CPe]\n",
        "    print(CP)\n",
        "    cp = input()\n",
        "    if CP[0] == cp:\n",
        "      CPex.append(input(CPprint[0]))\n",
        "      CPe.append(input(\"O que esse comando vai fazer \"))\n",
        "    elif CP[2] == cp:\n",
        "      CPex.remove(input(CPprint[2]))\n",
        "      CPe.remove(input(\"O que quer remover\"))\n",
        "    elif CP[1] == cp:\n",
        "      print(CPprint[1])\n",
        "    elif CPex[0] == cp:\n",
        "      print(CPe[0])\n",
        "    elif CPex[1] == cp:\n",
        "      print(CPe[1])\n",
        "    elif CPex[2] == cp:\n",
        "      print(CPe[2])\n",
        "    elif CPex[3] == cp:\n",
        "      print(CPe[3])\n",
        "    elif CPex[4] == cp:\n",
        "      print(CPe[4])\n",
        "    elif CPex[5] == cp:\n",
        "      print(CPe[5])\n",
        "    elif CPex[6] == cp:\n",
        "      print(CPe[6])\n",
        "    elif CPex[7] == cp:\n",
        "      print(CPe[7])\n",
        "    elif CPex[8] == cp:\n",
        "      print(CPe[8])\n",
        "    elif CPex[9] == cp:\n",
        "      print(CPe[9])\n",
        "    else:\n",
        "      print(\"Comando invalido\")\n",
        "  \n",
        "  else:\n",
        "     comando = input(\" De um comando para as portas ( trancar/abre porta do(a,e)...) \")\n",
        "     if comando == \"trancar porta do quarto 1\" or comando == \"Trancar porta do quarto 1\" or comando == \"trancar a porta do quarto 1\" or comando == \"Trancar a porta do quarto 1\":\n",
        "       print(\"Porta do quarto 1 trancada\")\n",
        "     elif comando == \"trancar porta do quarto 2\" or comando == \"Trancar porta do quarto 2\" or comando == \"trancar a porta do quarto 2\" or comando == \"Trancar a porta do quarto 2\":\n",
        "       print(\"Porta do quarto 2 trancada\")\n",
        "     elif comando == \"trancar porta da sala\" or comando == \"Trancar porta da sala\" or comando == \"trancar a porta da sala\" or comando == \"Trancar a porta da sala\":\n",
        "       print(\"Porta da sala trancada\")\n",
        "     elif comando == \"trancar porta do banheiro\" or comando == \"Trancar porta do banheiro\" or comando == \"trancar a porta do banheiro\" or comando == \"Trancar a porta do banheiro\":\n",
        "       print(\"Porta do banheiro trancada\")\n",
        "     elif comando == \"trancar porta da garagem\" or comando == \"Trancar porta da garagem\" or comando == \"trancar a porta da garagem\" or comando == \"Trancar a porta da garagem\":\n",
        "       print(\"Porta da garagem trancada\")\n",
        "     elif comando == \"trancar porta da cozinha\" or comando == \"Trancar porta da cozinha\" or comando == \"trancar a porta da cozinha\" or comando == \"Trancar a porta da cozinha\":\n",
        "       print(\"Porta da cozinha trancada\")\n",
        "     elif comando == \"trancar porta de entrada da garagem\" or comando == \"Trancar porta de entrada da garagem\" or comando == \"trancar a porta de entrada da garagem\" or comando == \"Trancar a porta de entrada da garagem\":\n",
        "       print(\"Porta de entrada da garagem trancada\")\n",
        "     \n",
        "     elif comando == \"abre porta do quarto 1\" or comando == \"Abre porta do quarto 1\" or comando == \"abre a porta do quarto 1\" or comando == \"Abre a porta do quarto 1\":\n",
        "       print(\"Porta do quarto 1 aberta\")\n",
        "     elif comando == \"abre porta do quarto 2\" or comando == \"Abre porta do quarto 2\" or comando == \"abre a porta do quarto 2\" or comando == \"Abre a porta do quarto 2\":\n",
        "       print(\"Porta do quarto 2 aberta\")\n",
        "     elif comando == \"abre porta da sala\" or comando == \"Abre porta da sala\" or comando == \"abre a porta da sala\" or comando == \"Abre a porta da sala\":\n",
        "       print(\"Porta da sala aberta\")\n",
        "     elif comando == \"abre porta do banheiro\" or comando == \"Abre porta do banheiro\" or comando == \"abre a porta do banheiro\" or comando == \"Abre a porta do banheiro\":\n",
        "       print(\"Porta do banheiro aberta\")\n",
        "     elif comando == \"abre porta da garagem\" or comando == \"Abre porta da garagem\" or comando == \"abre a porta da garagem\" or comando == \"Abre a porta da garagem\":\n",
        "       print(\"Porta da garagem aberta\")\n",
        "     elif comando == \"abre porta da cozinha\" or comando == \"Abre porta da cozinha\" or comando == \"abre a porta da cozinha\" or comando == \"Abre a porta da cozinha\":\n",
        "       print(\"Porta da cozinha aberta\")\n",
        "     elif comando == \"abre porta de entrada da garagem\" or comando == \"Abre porta de entrada da garagem\" or comando == \"abre a porta de entrada da garagem\" or comando == \"Abre a porta de entrada da garagem\":\n",
        "       print(\"Porta de entrada da garagem aberta\")\n",
        "     elif comando == \"\":\n",
        "       print(\"Nenhum comando foi dito\")\n",
        "     else:\n",
        "       print(\"Comando invalido\")\n",
        "\n",
        "     \n",
        "     comando_luz = input(\"De um comando para as luzes ( apagar/acender luz do(a,e)...) \")\n",
        "     if comando_luz == \"apagar luz do quarto 1\" or comando_luz == \"Apagar luz do quarto 1\" or comando_luz == \"apagar a luz do quarto 1\" or comando_luz == \"Apagar a luz do quarto 1\":\n",
        "       print(\"Luz do quarto 1 apagada\")\n",
        "     elif comando_luz == \"apagar luz do quarto 2\" or comando_luz == \"Apagar luz do quarto 2\" or comando_luz == \"apagar a luz do quarto 2\" or comando_luz == \"Apagar a luz do quarto 2\":\n",
        "       print(\"Luz do quarto 2 apagada\")\n",
        "     elif comando_luz == \"apagar luz da sala\" or comando_luz == \"Apagar luz da sala\" or comando_luz == \"apagar a luz da sala\" or comando_luz == \"Apagar a luz da sala\":\n",
        "       print(\"Luz da sala apagada\")\n",
        "     elif comando_luz == \"apagar luz do banheiro\" or comando_luz == \"Apagar luz do banheiro\" or comando_luz == \"apagar a luz do banheiro\" or comando_luz == \"Apagar a luz do banheiro\":\n",
        "       print(\"Luz do banheiro apagada\")\n",
        "     elif comando_luz == \"apagar luz da garagem\" or comando_luz == \"Apagar luz da garagem\" or comando_luz == \"apagar a luz da garagem\" or comando_luz == \"Apagar a luz da garagem\":\n",
        "       print(\"Luz da garagem apagada\")\n",
        "     elif comando_luz == \"apagar luz da cozinha\" or comando_luz == \"Apagar luz da cozinha\" or comando_luz == \"apagar a luz da cozinha\" or comando_luz == \"Apagar a luz da cozinha\":\n",
        "       print(\"Luz da cozinha apagada\")\n",
        "     elif comando_luz == \"apagar luz de entrada da garagem\" or comando_luz == \"Apagar luz de entrada da garagem\" or comando_luz == \"apagar a luz de entrada da garagem\" or comando_luz == \"Apagar a luz de entrada da garagem\":\n",
        "       print(\"Luz da entrada da garagem apagada\")\n",
        "\n",
        "     elif comando_luz == \"acender luz do quarto 1\" or comando_luz == \"Acender luz do quarto 1\" or comando_luz == \"acender a luz do quarto 1\" or comando_luz == \"Acender a luz do quarto 1\":\n",
        "        print(\"Luz do quarto 1 acesa\")\n",
        "     elif comando_luz == \"acender luz do quarto 2\" or comando_luz == \"Acender luz do quarto 2\" or comando_luz == \"acender a luz do quarto 2\" or comando_luz == \"Acender a luz do quarto 2\":\n",
        "        print(\"Luz do quarto 2 acesa\")\n",
        "     elif comando_luz == \"acender luz da sala\" or comando_luz == \"Acender luz da sala\" or comando_luz == \"acender a luz da sala\" or comando_luz == \"Acender a luz da sala\":\n",
        "        print(\"Luz da sala acesa\")\n",
        "     elif comando_luz == \"acender luz do banheiro\" or comando_luz == \"Acender luz do banheiro\" or comando_luz == \"acender a luz do banheiro\" or comando_luz == \"Acender a luz do banheiro\":\n",
        "        print(\"Luz do banheiro acesa\")\n",
        "     elif comando_luz == \"acender luz da garagem\" or comando_luz == \"Acender luz da garagem\" or comando_luz == \"acender a luz da garagem\" or comando_luz == \"Acender a luz da garagem\":\n",
        "        print(\"Luz da garagem acesa\")\n",
        "     elif comando_luz == \"acender luz da cozinha\" or comando_luz == \"Acender luz da cozinha \" or comando_luz == \"acender a luz da cozinha\" or comando_luz == \"Acender a luz da cozinha\":\n",
        "        print(\"Luz da cozinha acesa\")\n",
        "     elif comando_luz == \"acender luz de entrada da garagem\" or comando_luz == \"Acender luz de entrada da garagem\" or comando_luz == \"acender a luz de entrada da garagem\" or comando_luz == \"Acender a luz de entrada da garagem\":\n",
        "        print(\"Luz de entrada da garagem acesa\")    \n",
        "     elif comando == \"\":\n",
        "       print(\"Nenhum comando foi dito\")\n",
        "     else:\n",
        "      print(\"Comando invalido\")\n",
        "\n",
        "     \n",
        "     comando_janela = input(\"De um comando para as janelas ( fecha/abre janela do(a) ...) \")\n",
        "     if comando_janela == \"fechar janela do quarto 1\" or comando_janela == \"Fechar janela do quarto 1\" or comando_janela == \"fechar a janela do quarto 1\" or comando_janela == \"Fechar a janela do quarto 1\":\n",
        "       print(\"Janela do quarto 1 fechada\")\n",
        "     elif comando_janela == \"fechar janela do quarto 2\" or comando_janela == \"Fechar janela do quarto 2\" or comando_janela == \"fechar a janela do quarto 2\" or comando_janela == \"Fechar a janela do quarto 2\":\n",
        "       print(\"Janela do quarto 2 fechada\")\n",
        "     elif comando_janela == \"fechar janela da sala\" or comando_janela == \"Fechar janela da sala\" or comando_janela == \"fechar a janela da sala\" or comando_janela == \"Fechar a janela da sala\":\n",
        "       print(\"Janela da sala fechada\")\n",
        "     elif comando_janela == \"fechar janela do banheiro\" or comando_janela == \"Fechar janela do banheiro\" or comando_janela == \"fechar a janela do banheiro\" or comando_janela == \"Fechar a janela do banheiro\":\n",
        "       print(\"Janela do banheiro fechada\")\n",
        "     elif comando_janela == \"fechar janela da garagem\" or comando_janela == \"Fechar janela da garagem\" or comando_janela == \"fechar a janela da garagem\" or comando_janela == \"Fechar a janela da garagem\":\n",
        "       print(\"Janela da garagem fechada\")\n",
        "     elif comando_janela == \"fechar janela da cozinha\" or comando_janela == \"Fechar janela da cozinha\" or comando_janela == \"fechar a janela da cozinha\" or comando_janela == \"Fechar a janela da cozinha\":\n",
        "       print(\"Janela da cozinha fechada\")\n",
        "\n",
        "     elif comando_janela == \"abre janela do quarto 1\" or comando_janela == \"Abre janela do quarto 1\" or comando_janela == \"abre a janela do quarto 1\" or comando_janela == \"Abre a janela do quarto 1\":\n",
        "       print(\"Janela do quarto 1 aberta\")\n",
        "     elif comando_janela == \"abre janela do quarto 2\" or comando_janela == \"Abre janela do quarto 2\" or comando_janela == \"abre a janela do quarto 2\" or comando_janela == \"Abre a janela do quarto 2\":\n",
        "       print(\"Janela do quarto 2 aberta\")\n",
        "     elif comando_janela == \"abre janela da sala\" or comando_janela == \"Abre janela da sala\" or comando_janela == \"abre a janela da sala\" or comando_janela == \"Abre a janela da sala\":\n",
        "       print(\"Janela da sala aberta\")\n",
        "     elif comando_janela == \"abre janela do banheiro\" or comando_janela == \"Abre janela do banheiro\" or comando_janela == \"abre a janela do banheiro\" or comando_janela == \"Abre a janela do banheiro\":\n",
        "       print(\"Janela do banheiro aberta\")\n",
        "     elif comando_janela == \"abre janela da garagem\" or comando_janela == \"Abre janela da garagem\" or comando_janela == \"abre a janela da garagem\" or comando_janela == \"Abre a janela da garagem\":\n",
        "       print(\"Janela da garagem aberta\")\n",
        "     elif comando_janela == \"abre janela da cozinha\" or comando_janela == \"Abre janela da cozinha\" or comando_janela == \"abre a janela da cozinha\" or comando_janela == \"Abre a janela da cozinha\":\n",
        "       print(\"Janela da cozinha aberta\")\n",
        "     elif comando == \"\":\n",
        "       print(\"Nenhum comando foi dito\")\n",
        "     else:\n",
        "      print(\"Comando invalido\")\n",
        "else:\n",
        "  print(\"\")"
      ],
      "execution_count": null,
      "outputs": []
    },
    {
      "cell_type": "markdown",
      "metadata": {
        "id": "x7ygV_c3PW0B"
      },
      "source": [
        "**LISTA DE COMPRAS**"
      ]
    },
    {
      "cell_type": "code",
      "metadata": {
        "id": "RSW0rc_9Pba4",
        "colab": {
          "base_uri": "https://localhost:8080/"
        },
        "outputId": "09d3b972-0c20-4e5c-8ba8-c1f36670a605"
      },
      "source": [
        "print(\"A seguir coloque a quantidade de prudutos a serem comprados em seguida seus respectivos nomes.\")\n",
        "C = int(input(\"Digite a  quantidade de produtos >> \"))\n",
        "lista_compras = []\n",
        "lista_valor = []\n",
        "for z in range(C):\n",
        "  produtos=input(\"Digite o produto >> \")\n",
        "  lista_compras.append(produtos)\n",
        "for c in lista_compras:\n",
        "  print(\"Produtos =\",c)\n",
        "  lista_valor.append(float(input(\"O valor do produto é de >> R$\")))\n",
        "\n",
        "soma = sum(lista_valor)"
      ],
      "execution_count": null,
      "outputs": [
        {
          "output_type": "stream",
          "text": [
            "A seguir coloque a quantidade de prudutos a serem comprados em seguida seus respectivos nomes.\n",
            "Digite a  quantidade de produtos >> 2\n",
            "Digite o produto >> miojo\n",
            "Digite o produto >> refri\n",
            "Produtos = miojo\n",
            "O valor do produto é de >> R$2.00\n",
            "Produtos = refri\n",
            "O valor do produto é de >> R$5.00\n"
          ],
          "name": "stdout"
        }
      ]
    },
    {
      "cell_type": "markdown",
      "metadata": {
        "id": "lxW-CyVieyDF"
      },
      "source": [
        "**FINANÇAS**"
      ]
    },
    {
      "cell_type": "code",
      "metadata": {
        "id": "9BGW6sGue3Af"
      },
      "source": [
        "print(\"A seguir coloque o número de integrantes na sua familia e informe seus respectivos nomes.\")\n",
        "N = int(input(\"Digite o número>> \"))\n",
        "Lista_pessoas = []\n",
        "Renda_P = []\n",
        "for _ in range(N):\n",
        "  Membros=input(\"Digite o nome da pessoa >> \")\n",
        "  Lista_pessoas.append(Membros)\n",
        "for p in Lista_pessoas:\n",
        "  print(\"Pessoas=\",p)\n",
        "  Renda_P.append(int(input(\"A renda dele(a) é de >> R$\")))\n",
        "  print()\n",
        "\n",
        "Conta = input(\"Você(s) paga prestações?(sim ou não) >> \")\n",
        "if Conta ==\"sim\" or Conta ==\"SIM\" or Conta  == \"Sim\":\n",
        "  print(\"A seguir informe a quantidade e quais prestações você(s) paga(m)\")\n",
        "  n_presta = int(input(\"Digite o quantidade de prestações >> \"))\n",
        "  presta = []\n",
        "  valor_presta = []\n",
        "  for np in range(n_presta):\n",
        "    prestacoes = input(\"Digite qual é a prestação >> \")\n",
        "    presta.append(prestacoes)\n",
        "\n",
        "  for P in presta:\n",
        "    print(\"Prestações = \",P)\n",
        "    valor_presta.append(int(input(\"O valor da prestação é de >> R$\")))\n",
        "    Prestações = sum(valor_presta)\n",
        "    print()\n",
        "     \n",
        "  if Prestações > 0:  \n",
        "    V_energia = float(input(\"Digite quanto você gastou de energia >> R$\"))\n",
        "    V_agua = float(input(\"Digite quanto você gastou de água >> R$\"))\n",
        "    V_internet = float(input(\"Digite quanto você gastou de internet >> R$\"))\n",
        "    V_lista_compras = sum(lista_valor)\n",
        "    Renda_familiar_total = sum(Renda_P)\n",
        "    restante = Renda_familiar_total - (V_energia + V_agua + V_internet + Prestações)\n",
        "    resto = restante * int(restante > 0)\n",
        "    \n",
        "    print(\"O que sobrou foi\",round(resto,2), \"R$\")\n",
        "    print(\"- Valor da lista de compras\",sum(lista_valor), \"R$\")\n",
        "    print(\"Caso deseja comprar esse produtos\",lista_compras, \"o valor restante seria de \", resto - V_lista_compras, \"R$\" )\n",
        "\n",
        "  else:\n",
        "    print(\"ERRO\")\n",
        "else:\n",
        "  V_energia = float(input(\"Digite quanto você gastou de energia >> R$\"))\n",
        "  V_agua = float(input(\"Digite quanto você gastou de água >> R$\"))\n",
        "  V_internet = float(input(\"Digite quanto você gastou de internet >> R$\"))\n",
        "  V_lista_compras = sum(lista_valor)\n",
        "  Renda_familiar_total = sum(Renda_P)\n",
        "  restante = Renda_familiar_total - (V_energia + V_agua + V_internet)\n",
        "  resto = restante * int(restante > 0)\n",
        "  \n",
        "  print(\"O que sobrou foi\",round(resto,2), \"R$\")\n",
        "  print(\"- Valor da lista de compras\",sum(lista_valor), \"R$\")\n",
        "  print(\"Caso deseja comprar esse produtos\",lista_compras, \"o valor restante seria de \", resto - V_lista_compras, \"R$\" )"
      ],
      "execution_count": null,
      "outputs": []
    },
    {
      "cell_type": "markdown",
      "metadata": {
        "id": "Rub0q99VXS37"
      },
      "source": [
        "**CALCULO DA POUPANÇA**"
      ]
    },
    {
      "cell_type": "code",
      "metadata": {
        "id": "jmw-2Fe8CbTI"
      },
      "source": [
        "print(\"o algoritmo a seguir irá calcular a poupança da renda familiar bruta, para isso precisaremos da colaboração de todos os membros da casa, acima será colocado como valor extra.\")\n",
        "print()\n",
        "print(\"coloque os valores que cada membro fornecerá na poupança!\")\n",
        "print()\n",
        "print(\"digite o valor que cada um dos membros existentes na família fornecerá, caso forneça nada coloque 0.\")\n",
        "print()\n",
        "fornecera = []\n",
        "for f in Lista_pessoas:\n",
        "  print(\"Pessoas=\",f)\n",
        "  fornecera.append(float(input(\"o valor que será fornecido é de >> R$\")))\n",
        "  Fornecer = sum(fornecera)\n",
        "if Fornecer > 0:\n",
        "  VX=float(input(\"digite o valor extra >> R$\"))\n",
        "  meses = int(input(\"digite quantos meses >> \"))\n",
        "  print()\n",
        "  Montan = Fornecer + VX\n",
        "  Poupan = (Fornecer*(0.13/100))*meses\n",
        "  Montan_mais_Poupan = Montan + Poupan\n",
        "\n",
        "  print(\"valor da sua poupança é calculada em cima da porcentagem aplicada, sobre a multiplicação em meses\")\n",
        "  print(\"o seu capital gerou um valor de\",round(Poupan,2),\"R$ na poupança\")\n",
        "  print(\"seu montante foi de\",round(Montan_mais_Poupan,2),\"R$\")\n",
        "\n",
        "else:\n",
        "  print(\"ERRO\")"
      ],
      "execution_count": null,
      "outputs": []
    },
    {
      "cell_type": "markdown",
      "metadata": {
        "id": "4ddUDYza4cNv"
      },
      "source": [
        "**EVOLUÇÃO** (EXTRAS)"
      ]
    },
    {
      "cell_type": "markdown",
      "metadata": {
        "id": "_mhHYRUo5AcP"
      },
      "source": [
        "Esses são os nossos antigos códigos, no início do planejamento, com base nas orientações e estudos, aprimoramos e ampliamos o alcance de cada um deles assim criando um código dinâmico e eficiente."
      ]
    },
    {
      "cell_type": "markdown",
      "metadata": {
        "id": "xqB39QbjBlgr"
      },
      "source": [
        "LISTA DE COMPRAS"
      ]
    },
    {
      "cell_type": "code",
      "metadata": {
        "id": "qjm3uOuIBuej"
      },
      "source": [
        "lista_compras = []\n",
        "lista_valor = []\n",
        "n = int(input(\"Quantos produtos querem adicionar no seu carrinho >> \"))\n",
        "if n == 1:\n",
        "  lista_compras.append(input(\"Adicionar um produto 1 >> \"))\n",
        "  lista_valor.append(float(input(\"Adiconar o valor do produto 1 >> \")))\n",
        "elif n == 2:\n",
        "  lista_compras.append(input(\"Adicionar um produto 1 >> \"))\n",
        "  lista_valor.append(float(input(\"Adiconar o valor do produto 1 >> \")))\n",
        "  lista_compras.append(input(\"Adicionar um produto 2 >> \"))\n",
        "  lista_valor.append(float(input(\"Adiconar o valor do produto 2 >> \")))\n",
        "elif n == 3:\n",
        "  lista_compras.append(input(\"Adicionar um produto 1 >> \"))\n",
        "  lista_valor.append(float(input(\"Adiconar o valor do produto 1 >> \")))\n",
        "  lista_compras.append(input(\"Adicionar um produto 2 >> \"))\n",
        "  lista_valor.append(float(input(\"Adiconar o valor do produto 2 >> \")))\n",
        "  lista_compras.append(input(\"Adicionar um produto 3 >> \"))\n",
        "  lista_valor.append(float(input(\"Adiconar o valor do produto 3 >> \")))\n",
        "elif n == 4:\n",
        "  lista_compras.append(input(\"Adicionar um produto 1 >> \"))\n",
        "  lista_valor.append(float(input(\"Adiconar o valor do produto 1 >> \")))\n",
        "  lista_compras.append(input(\"Adicionar um produto 2 >> \"))\n",
        "  lista_valor.append(float(input(\"Adiconar o valor do produto 2 >> \")))\n",
        "  lista_compras.append(input(\"Adicionar um produto 3 >> \"))\n",
        "  lista_valor.append(float(input(\"Adiconar o valor do produto 3 >> \")))\n",
        "  lista_compras.append(input(\"Adicionar um produto 4 >> \"))\n",
        "  lista_valor.append(float(input(\"Adiconar o valor do produto 4 >> \")))\n",
        "elif n == 5:\n",
        "  lista_compras.append(input(\"Adicionar um produto 1 >> \"))\n",
        "  lista_valor.append(float(input(\"Adiconar o valor do produto 1 >> \")))\n",
        "  lista_compras.append(input(\"Adicionar um produto 2 >> \"))\n",
        "  lista_valor.append(float(input(\"Adiconar o valor do produto 2 >> \")))\n",
        "  lista_compras.append(input(\"Adicionar um produto 3 >> \"))\n",
        "  lista_valor.append(float(input(\"Adiconar o valor do produto 3 >> \")))\n",
        "  lista_compras.append(input(\"Adicionar um produto 4 >> \"))\n",
        "  lista_valor.append(float(input(\"Adiconar o valor do produto 4 >> \")))\n",
        "  lista_compras.append(input(\"Adicionar um produto 5 >> \"))\n",
        "  lista_valor.append(float(input(\"Adiconar o valor do produto 5 >> \")))\n",
        "else:\n",
        "  print(\"\")\n",
        "\n",
        "soma = sum(lista_valor)"
      ],
      "execution_count": null,
      "outputs": []
    },
    {
      "cell_type": "markdown",
      "metadata": {
        "id": "yoaPpSiDBz_Y"
      },
      "source": [
        "FINANÇAS"
      ]
    },
    {
      "cell_type": "code",
      "metadata": {
        "id": "wz02kuB6B5Qm"
      },
      "source": [
        "Contas=input(\"você paga prestações?(sim ou não) >> \")\n",
        "\n",
        "if Contas==\"sim\" or Contas==\"SIM\" or Contas == \"Sim\":\n",
        "  Renda_familiar_total = float(input(\"digite sua renda familiar total >> \"))\n",
        "  V_energia = float(input(\"digite quanto você gastou de energia >> \"))\n",
        "  V_agua = float(input(\"digite quanto você gastou de água >> \"))\n",
        "  V_internet = float(input(\"digite quanto você gastou de internet >> \"))\n",
        "  Prest_car = float(input(\"digite o valor da prestação do carro >> \"))\n",
        "  Prest_resindencia = float(input(\"digite o valor da prestação da sua residência >> \"))\n",
        "  V_lista_compras = sum(lista_valor)\n",
        "  restante = Renda_familiar_total - (V_energia + V_agua + V_internet + Prest_car + Prest_resindencia)\n",
        "  resto = restante * int(restante > 0)\n",
        "  print(\"O que sobrou foi\",round(resto,2), \"R$\")\n",
        "  print(\"- valor da lista de compras\",lista_valor, \"R$\")\n",
        "  print(\"caso deseja comprar esse produtos\",lista_compras, \"o valor restante seria de \", resto - V_lista_compras )\n",
        "else:\n",
        "  Renda_familiar_total = float(input(\"digite sua renda familiar total >> \"))\n",
        "  V_energia = float(input(\"digite quanto você gastou de energia >> \"))\n",
        "  V_agua = float(input(\"digite quanto você gastou de água >> \"))\n",
        "  V_internet = float(input(\"digite quanto você gastou de internet >> \"))\n",
        "  V_lista_compras = sum(lista_valor)\n",
        "  restante = Renda_familiar_total - (V_energia + V_agua + V_internet)\n",
        "  resto = restante * int(restante > 0)\n",
        "  print(\"O que sobrou foi\",round(resto,2), \"R$\")\n",
        "  print(\"- valor da lista de compras\",lista_valor, \"R$\")\n",
        "  print(\"caso deseja comprar esse produtos\",lista_compras, \"o valor restante seria de \", resto - V_lista_compras, \"R$\" )"
      ],
      "execution_count": null,
      "outputs": []
    },
    {
      "cell_type": "markdown",
      "metadata": {
        "id": "mHdbxaoOCC2q"
      },
      "source": [
        "CALCULO DA POUPANÇA"
      ]
    },
    {
      "cell_type": "code",
      "metadata": {
        "id": "nhkCMWCd4lE4"
      },
      "source": [
        "print(\"o algoritmo a seguir irá calcular a poupança da renda familiar bruta, para isso precisaremos da colaboração de todos os membros da casa, comportando no máximo 5 membros, acima será colocado como valor extra.\")\n",
        "print()\n",
        "print(\"coloque os valores que cada membro fornecerá na poupança!\")\n",
        "print()\n",
        "print(\"digite o valor que cada um dos membros existentes na família fornecerá, caso não tenha o membro coloque 0.\")\n",
        "print()\n",
        "V1=float(input(\"digite o valor >> \"))\n",
        "V2=float(input(\"digite o valor >> \"))\n",
        "V3=float(input(\"digite o valor >> \"))\n",
        "V4=float(input(\"digite o valor >> \"))\n",
        "V5=float(input(\"digite o valor >> \"))\n",
        "VX=float(input(\"digite o valor extra >> \"))\n",
        "N=int(input(\"digite quantos meses >> \"))\n",
        "Montan=V1+V2+V3+V4+V5+VX\n",
        "Poupan=((V1+V2+V3+V4+V5+VX)*0.13/100)*N\n",
        "Montan_mais_Poupan = Montan + Poupan\n",
        "\n",
        "print(\"valor da sua poupança é calculada em cima da porcentagem aplicada, sobre a multiplicação em meses\")\n",
        "print(\"o seu capital gerou um valor de\",round(Poupan,2),\"reais na poupança\")\n",
        "print(\"seu montante foi de\",round(Montan_mais_Poupan,2),\"reais\")"
      ],
      "execution_count": null,
      "outputs": []
    }
  ]
}